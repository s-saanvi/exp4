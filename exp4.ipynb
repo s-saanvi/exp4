import pandas as pd

def find_s(data):
    X, y = data.iloc[:, :-1].values, data.iloc[:, -1].values
    hypo = next((list(row) for row, label in zip(X, y) if label == 'Yes'), None)
    if hypo is None:
        return print("No positive examples found.")
    for row, label in zip(X, y):
        if label == 'Yes':
            hypo = ['?' if h != val else h for h, val in zip(hypo, row)]
    return hypo

data = pd.read_csv('/home/gaurav/aiml/train.csv')
print("Training data:\n", data)
hypo = find_s(data)
if hypo: print("\nFinal hypothesis:", hypo)
